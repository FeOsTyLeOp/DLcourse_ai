{
 "cells": [
  {
   "cell_type": "code",
   "execution_count": 1,
   "metadata": {
    "collapsed": true
   },
   "outputs": [],
   "source": [
    "import numpy as np\n",
    "import matplotlib.pyplot as plt\n",
    "\n",
    "%matplotlib inline\n",
    "\n",
    "%load_ext autoreload\n",
    "%autoreload 2"
   ]
  },
  {
   "cell_type": "code",
   "execution_count": 2,
   "outputs": [],
   "source": [
    "from dataset import load_svhn, random_split_train_val\n",
    "from gradient_check import check_layer_gradient, check_layer_param_gradient, check_model_gradient\n",
    "from layers import FullyConnectedLayer, ReLULayer, ConvolutionalLayer, MaxPoolingLayer, Flattener\n",
    "from model import ConvNet\n",
    "from trainer import Trainer, Dataset\n",
    "from optim import SGD, MomentumSGD\n",
    "from metrics import multiclass_accuracy"
   ],
   "metadata": {
    "collapsed": false
   }
  },
  {
   "cell_type": "code",
   "execution_count": 4,
   "outputs": [],
   "source": [
    "def prepare_for_neural_network(train_X, test_X):\n",
    "    train_X = train_X.astype(float) / 255.0\n",
    "    test_X = test_X.astype(float) / 255.0\n",
    "\n",
    "    # Subtract mean\n",
    "    mean_image = np.mean(train_X, axis = 0)\n",
    "    train_X -= mean_image\n",
    "    test_X -= mean_image\n",
    "\n",
    "    return train_X, test_X\n",
    "\n",
    "train_X, train_y, test_X, test_y = load_svhn(\"data\", max_train=10000, max_test=1000)\n",
    "train_X, test_X = prepare_for_neural_network(train_X, test_X)\n",
    "# Split train into train and val\n",
    "train_X, train_y, val_X, val_y = random_split_train_val(train_X, train_y, num_val = 1000)"
   ],
   "metadata": {
    "collapsed": false
   }
  },
  {
   "cell_type": "code",
   "execution_count": 7,
   "outputs": [
    {
     "name": "stdout",
     "output_type": "stream",
     "text": [
      "Shape of X: (2, 2, 2, 1)\n",
      "Shape of W (2, 2, 1, 1)\n",
      "Shape of X: (2, 2, 2, 2)\n"
     ]
    }
   ],
   "source": [
    "# TODO: Implement ConvolutionaLayer that supports only 1 output and input channel\n",
    "\n",
    "# Note: now you're working with images, so X is 4-dimensional tensor of\n",
    "# (batch_size, height, width, channels)\n",
    "\n",
    "X = np.array([\n",
    "              [\n",
    "               [[1.0], [2.0]],\n",
    "               [[0.0], [-1.0]]\n",
    "              ]\n",
    "              ,\n",
    "              [\n",
    "               [[0.0], [1.0]],\n",
    "               [[-2.0], [-1.0]]\n",
    "              ]\n",
    "             ])\n",
    "\n",
    "# Batch of 2 images of dimensions 2x2 with a single channel\n",
    "print(\"Shape of X:\",X.shape)\n",
    "\n",
    "layer = ConvolutionalLayer(in_channels=1, out_channels=1, filter_size=2, padding=0)\n",
    "print(\"Shape of W\", layer.W.value.shape)\n",
    "layer.W.value = np.zeros_like(layer.W.value)\n",
    "layer.W.value[0, 0, 0, 0] = 1.0\n",
    "layer.B.value = np.ones_like(layer.B.value)\n",
    "result = layer.forward(X)\n",
    "\n",
    "assert result.shape == (2, 1, 1, 1)\n",
    "assert np.all(result == X[:, :1, :1, :1] +1), \"result: %s, X: %s\" % (result, X[:, :1, :1, :1])\n",
    "\n",
    "\n",
    "# Now let's implement multiple output channels\n",
    "layer = ConvolutionalLayer(in_channels=1, out_channels=2, filter_size=2, padding=0)\n",
    "result = layer.forward(X)\n",
    "assert result.shape == (2, 1, 1, 2)\n",
    "\n",
    "\n",
    "# And now multple input channels!\n",
    "X = np.array([\n",
    "              [\n",
    "               [[1.0, 0.0], [2.0, 1.0]],\n",
    "               [[0.0, -1.0], [-1.0, -2.0]]\n",
    "              ]\n",
    "              ,\n",
    "              [\n",
    "               [[0.0, 1.0], [1.0, -1.0]],\n",
    "               [[-2.0, 2.0], [-1.0, 0.0]]\n",
    "              ]\n",
    "             ])\n",
    "\n",
    "print(\"Shape of X:\", X.shape)\n",
    "layer = ConvolutionalLayer(in_channels=2, out_channels=2, filter_size=2, padding=0)\n",
    "result = layer.forward(X)\n",
    "assert result.shape == (2, 1, 1, 2)"
   ],
   "metadata": {
    "collapsed": false
   }
  },
  {
   "cell_type": "code",
   "execution_count": 10,
   "outputs": [
    {
     "name": "stdout",
     "output_type": "stream",
     "text": [
      "Gradient check passed!\n",
      "Gradient check passed!\n",
      "Gradient check passed!\n"
     ]
    }
   ],
   "source": [
    "# First test - check the shape is right\n",
    "layer = ConvolutionalLayer(in_channels=2, out_channels=2, filter_size=2, padding=0)\n",
    "result = layer.forward(X)\n",
    "d_input = layer.backward(np.ones_like(result))\n",
    "assert d_input.shape == X.shape\n",
    "\n",
    "# Actually test the backward pass\n",
    "# As usual, you'll need to copy gradient check code from the previous assignment\n",
    "layer = ConvolutionalLayer(in_channels=2, out_channels=2, filter_size=2, padding=0)\n",
    "assert check_layer_gradient(layer, X)\n",
    "\n",
    "layer = ConvolutionalLayer(in_channels=2, out_channels=2, filter_size=2, padding=0)\n",
    "assert check_layer_param_gradient(layer, X, 'W')\n",
    "layer = ConvolutionalLayer(in_channels=2, out_channels=2, filter_size=2, padding=0)\n",
    "assert check_layer_param_gradient(layer, X, 'B')"
   ],
   "metadata": {
    "collapsed": false
   }
  },
  {
   "cell_type": "code",
   "execution_count": 11,
   "outputs": [
    {
     "name": "stdout",
     "output_type": "stream",
     "text": [
      "(2, 2, 2, 2)\n",
      "Gradient check passed!\n"
     ]
    }
   ],
   "source": [
    "layer = ConvolutionalLayer(in_channels=2, out_channels=2, filter_size=3, padding=1)\n",
    "result = layer.forward(X)\n",
    "# Note this kind of layer produces the same dimensions as input\n",
    "assert result.shape == X.shape,\"Result shape: %s - Expected shape %s\" % (result.shape, X.shape)\n",
    "d_input = layer.backward(np.ones_like(result))\n",
    "assert d_input.shape == X.shape\n",
    "print(X.shape)\n",
    "layer = ConvolutionalLayer(in_channels=2, out_channels=2, filter_size=3, padding=1)\n",
    "assert check_layer_gradient(layer, X)"
   ],
   "metadata": {
    "collapsed": false
   }
  },
  {
   "cell_type": "code",
   "execution_count": 12,
   "outputs": [
    {
     "name": "stdout",
     "output_type": "stream",
     "text": [
      "Gradients are different at (0, 0, 0, 0). Analytic: -0.01988, Numeric: -1.18850\n"
     ]
    },
    {
     "ename": "AssertionError",
     "evalue": "",
     "output_type": "error",
     "traceback": [
      "\u001B[1;31m---------------------------------------------------------------------------\u001B[0m",
      "\u001B[1;31mAssertionError\u001B[0m                            Traceback (most recent call last)",
      "Cell \u001B[1;32mIn [12], line 2\u001B[0m\n\u001B[0;32m      1\u001B[0m layer \u001B[38;5;241m=\u001B[39m ConvolutionalLayer(in_channels\u001B[38;5;241m=\u001B[39m\u001B[38;5;241m2\u001B[39m, out_channels\u001B[38;5;241m=\u001B[39m\u001B[38;5;241m2\u001B[39m, filter_size\u001B[38;5;241m=\u001B[39m\u001B[38;5;241m3\u001B[39m, padding\u001B[38;5;241m=\u001B[39m\u001B[38;5;241m1\u001B[39m)\n\u001B[1;32m----> 2\u001B[0m \u001B[38;5;28;01massert\u001B[39;00m check_layer_param_gradient(layer, X, \u001B[38;5;124m'\u001B[39m\u001B[38;5;124mW\u001B[39m\u001B[38;5;124m'\u001B[39m)\n",
      "\u001B[1;31mAssertionError\u001B[0m: "
     ]
    }
   ],
   "source": [
    "layer = ConvolutionalLayer(in_channels=2, out_channels=2, filter_size=3, padding=1)\n",
    "assert check_layer_param_gradient(layer, X, 'W')"
   ],
   "metadata": {
    "collapsed": false
   }
  },
  {
   "cell_type": "code",
   "execution_count": 13,
   "outputs": [
    {
     "name": "stdout",
     "output_type": "stream",
     "text": [
      "Gradient check passed!\n"
     ]
    }
   ],
   "source": [
    "pool = MaxPoolingLayer(2, 2)\n",
    "result = pool.forward(X)\n",
    "assert result.shape == (2, 1, 1, 2)\n",
    "\n",
    "assert check_layer_gradient(pool, X)"
   ],
   "metadata": {
    "collapsed": false
   }
  },
  {
   "cell_type": "code",
   "execution_count": 14,
   "outputs": [
    {
     "name": "stdout",
     "output_type": "stream",
     "text": [
      "Gradients are different at (0, 0, 2, 0). Analytic: -0.19503, Numeric: -0.09751\n"
     ]
    },
    {
     "ename": "AssertionError",
     "evalue": "",
     "output_type": "error",
     "traceback": [
      "\u001B[1;31m---------------------------------------------------------------------------\u001B[0m",
      "\u001B[1;31mAssertionError\u001B[0m                            Traceback (most recent call last)",
      "Cell \u001B[1;32mIn [14], line 9\u001B[0m\n\u001B[0;32m      6\u001B[0m result \u001B[38;5;241m=\u001B[39m pool\u001B[38;5;241m.\u001B[39mforward(X_test)\n\u001B[0;32m      7\u001B[0m \u001B[38;5;28;01massert\u001B[39;00m result\u001B[38;5;241m.\u001B[39mshape \u001B[38;5;241m==\u001B[39m (\u001B[38;5;241m2\u001B[39m, \u001B[38;5;241m2\u001B[39m, \u001B[38;5;241m2\u001B[39m, \u001B[38;5;241m1\u001B[39m)\n\u001B[1;32m----> 9\u001B[0m \u001B[38;5;28;01massert\u001B[39;00m check_layer_gradient(pool, X_test)\n",
      "\u001B[1;31mAssertionError\u001B[0m: "
     ]
    }
   ],
   "source": [
    "X_test = np.array([\n",
    "    [[[1.0], [2.0], [2.0], [2.0]], [[3.0], [4.0], [2.0], [2.0]], [[3.0], [4.0], [2.0], [2.0]], [[3.0], [4.0], [2.0], [2.0]]],\n",
    "    [[[7.0], [9.0], [1.0], [2.0]], [[3.0], [5.0], [7.0], [1.0]], [[3.0], [8.0], [4.0], [4.0]], [[5.0], [9.0], [7.0], [3.0]]]\n",
    "])\n",
    "pool = MaxPoolingLayer(2, 2)\n",
    "result = pool.forward(X_test)\n",
    "assert result.shape == (2, 2, 2, 1)\n",
    "\n",
    "assert check_layer_gradient(pool, X_test)"
   ],
   "metadata": {
    "collapsed": false
   }
  },
  {
   "cell_type": "code",
   "execution_count": 15,
   "outputs": [
    {
     "name": "stdout",
     "output_type": "stream",
     "text": [
      "Gradient check passed!\n"
     ]
    }
   ],
   "source": [
    "flattener = Flattener()\n",
    "result = flattener.forward(X)\n",
    "assert result.shape == (2,8)\n",
    "\n",
    "assert check_layer_gradient(flattener, X)"
   ],
   "metadata": {
    "collapsed": false
   }
  },
  {
   "cell_type": "code",
   "execution_count": 18,
   "outputs": [
    {
     "name": "stdout",
     "output_type": "stream",
     "text": [
      "(2, 32, 32, 3)\n",
      "Checking gradient for WC1\n",
      "Gradients are different at (0, 0, 0, 0). Analytic: -0.00060, Numeric: 0.01268\n"
     ]
    },
    {
     "data": {
      "text/plain": "False"
     },
     "execution_count": 18,
     "metadata": {},
     "output_type": "execute_result"
    }
   ],
   "source": [
    "# TODO: In model.py, implement missed functions function for ConvNet model\n",
    "\n",
    "# Use regularization on fully-connected layer only\n",
    "print(train_X[:2].shape)\n",
    "model = ConvNet(input_shape=(32,32,3), n_output_classes=10, conv1_channels=2, conv2_channels=2)\n",
    "loss = model.compute_loss_and_gradients(train_X[:2], train_y[:2])\n",
    "# TODO Now implement backward pass and aggregate all of the params\n",
    "check_model_gradient(model, train_X[:2], train_y[:2])"
   ],
   "metadata": {
    "collapsed": false
   }
  },
  {
   "cell_type": "code",
   "execution_count": 19,
   "outputs": [
    {
     "name": "stdout",
     "output_type": "stream",
     "text": [
      "Checking gradient for WC1\n",
      "Gradients are different at (0, 0, 0, 0). Analytic: 0.00512, Numeric: 0.00285\n"
     ]
    },
    {
     "data": {
      "text/plain": "False"
     },
     "execution_count": 19,
     "metadata": {},
     "output_type": "execute_result"
    }
   ],
   "source": [
    "model = ConvNet(input_shape=(32,32,3), n_output_classes=10, conv1_channels=2, conv2_channels=2)\n",
    "check_model_gradient(model, train_X[:2], train_y[:2])"
   ],
   "metadata": {
    "collapsed": false
   }
  },
  {
   "cell_type": "code",
   "execution_count": 21,
   "outputs": [
    {
     "name": "stdout",
     "output_type": "stream",
     "text": [
      "Loss: 2.300616, Train accuracy: 0.187500, val accuracy: 0.125000\n",
      "Loss: 4.008983, Train accuracy: 0.187500, val accuracy: 0.062500\n",
      "Loss: 9.163836, Train accuracy: 0.062500, val accuracy: 0.000000\n",
      "Loss: 5.422526, Train accuracy: 0.125000, val accuracy: 0.187500\n",
      "Loss: 2.664126, Train accuracy: 0.125000, val accuracy: 0.000000\n",
      "Loss: 2.327602, Train accuracy: 0.125000, val accuracy: 0.062500\n",
      "Loss: 2.201190, Train accuracy: 0.125000, val accuracy: 0.125000\n",
      "Loss: 2.137979, Train accuracy: 0.187500, val accuracy: 0.125000\n",
      "Loss: 2.098613, Train accuracy: 0.187500, val accuracy: 0.125000\n",
      "Loss: 2.069171, Train accuracy: 0.312500, val accuracy: 0.125000\n",
      "Loss: 2.044348, Train accuracy: 0.312500, val accuracy: 0.062500\n",
      "Loss: 2.022449, Train accuracy: 0.312500, val accuracy: 0.062500\n",
      "Loss: 2.003162, Train accuracy: 0.250000, val accuracy: 0.125000\n",
      "Loss: 1.986323, Train accuracy: 0.250000, val accuracy: 0.125000\n",
      "Loss: 1.971516, Train accuracy: 0.250000, val accuracy: 0.125000\n",
      "Loss: 1.958950, Train accuracy: 0.250000, val accuracy: 0.125000\n",
      "Loss: 1.947794, Train accuracy: 0.250000, val accuracy: 0.125000\n",
      "Loss: 1.937677, Train accuracy: 0.312500, val accuracy: 0.125000\n",
      "Loss: 1.928988, Train accuracy: 0.312500, val accuracy: 0.125000\n",
      "Loss: 1.920845, Train accuracy: 0.375000, val accuracy: 0.125000\n"
     ]
    }
   ],
   "source": [
    "model = ConvNet(input_shape=(32,32,3), n_output_classes=10, conv1_channels=2, conv2_channels=2, reg = 1e-2)\n",
    "dataset = Dataset(train_X[:16], train_y[:16], val_X[:16], val_y[:16])\n",
    "trainer = Trainer(model, dataset, SGD(), batch_size=16, learning_rate=1e-1)\n",
    "\n",
    "loss_history, train_history, val_history = trainer.fit()"
   ],
   "metadata": {
    "collapsed": false
   }
  },
  {
   "cell_type": "code",
   "execution_count": 22,
   "outputs": [
    {
     "data": {
      "text/plain": "[<matplotlib.lines.Line2D at 0x26ba2808be0>]"
     },
     "execution_count": 22,
     "metadata": {},
     "output_type": "execute_result"
    },
    {
     "data": {
      "text/plain": "<Figure size 640x480 with 1 Axes>",
      "image/png": "[encoded data removed]"
     },
     "metadata": {},
     "output_type": "display_data"
    }
   ],
   "source": [
    "plt.plot(train_history)\n",
    "plt.plot(val_history)"
   ],
   "metadata": {
    "collapsed": false
   }
  },
  {
   "cell_type": "code",
   "execution_count": 23,
   "outputs": [
    {
     "name": "stdout",
     "output_type": "stream",
     "text": [
      "Loss: 12.701880, Train accuracy: 0.132812, val accuracy: 0.148438\n",
      "Loss: 17.695827, Train accuracy: 0.101562, val accuracy: 0.078125\n",
      "Loss: 26.530990, Train accuracy: 0.078125, val accuracy: 0.054688\n",
      "Loss: 32.859659, Train accuracy: 0.101562, val accuracy: 0.171875\n",
      "Loss: 27.408095, Train accuracy: 0.109375, val accuracy: 0.078125\n",
      "Loss: 22.895175, Train accuracy: 0.117188, val accuracy: 0.046875\n",
      "Loss: 17.163912, Train accuracy: 0.132812, val accuracy: 0.109375\n",
      "Loss: 25.567959, Train accuracy: 0.171875, val accuracy: 0.187500\n",
      "Loss: 36.156686, Train accuracy: 0.078125, val accuracy: 0.164062\n",
      "Loss: 25.575003, Train accuracy: 0.234375, val accuracy: 0.195312\n",
      "Loss: 23.629018, Train accuracy: 0.140625, val accuracy: 0.085938\n",
      "Loss: 24.742650, Train accuracy: 0.156250, val accuracy: 0.093750\n",
      "Loss: 31.057430, Train accuracy: 0.140625, val accuracy: 0.148438\n",
      "Loss: 24.784185, Train accuracy: 0.265625, val accuracy: 0.203125\n",
      "Loss: 20.293352, Train accuracy: 0.250000, val accuracy: 0.187500\n",
      "Loss: 15.679576, Train accuracy: 0.250000, val accuracy: 0.078125\n",
      "Loss: 17.823825, Train accuracy: 0.226562, val accuracy: 0.109375\n",
      "Loss: 19.009031, Train accuracy: 0.265625, val accuracy: 0.242188\n",
      "Loss: 11.856899, Train accuracy: 0.328125, val accuracy: 0.085938\n",
      "Loss: 13.111669, Train accuracy: 0.250000, val accuracy: 0.101562\n",
      "Loss: 9.924562, Train accuracy: 0.312500, val accuracy: 0.195312\n",
      "Loss: 8.146710, Train accuracy: 0.367188, val accuracy: 0.054688\n",
      "Loss: 8.589311, Train accuracy: 0.296875, val accuracy: 0.093750\n",
      "Loss: 7.986533, Train accuracy: 0.304688, val accuracy: 0.156250\n",
      "Loss: 5.861534, Train accuracy: 0.406250, val accuracy: 0.140625\n",
      "Loss: 3.641346, Train accuracy: 0.351562, val accuracy: 0.093750\n",
      "Loss: 3.154994, Train accuracy: 0.476562, val accuracy: 0.140625\n",
      "Loss: 3.330273, Train accuracy: 0.429688, val accuracy: 0.125000\n",
      "Loss: 2.638286, Train accuracy: 0.578125, val accuracy: 0.226562\n",
      "Loss: 2.957567, Train accuracy: 0.585938, val accuracy: 0.203125\n",
      "Loss: 1.807945, Train accuracy: 0.578125, val accuracy: 0.117188\n",
      "Loss: 2.957317, Train accuracy: 0.593750, val accuracy: 0.148438\n",
      "Loss: 3.093670, Train accuracy: 0.585938, val accuracy: 0.218750\n",
      "Loss: 2.036581, Train accuracy: 0.585938, val accuracy: 0.109375\n",
      "Loss: 1.784814, Train accuracy: 0.632812, val accuracy: 0.187500\n",
      "Loss: 1.800431, Train accuracy: 0.656250, val accuracy: 0.226562\n",
      "Loss: 1.441052, Train accuracy: 0.718750, val accuracy: 0.156250\n",
      "Loss: 1.422309, Train accuracy: 0.703125, val accuracy: 0.140625\n",
      "Loss: 1.135953, Train accuracy: 0.664062, val accuracy: 0.226562\n",
      "Loss: 1.302967, Train accuracy: 0.750000, val accuracy: 0.148438\n",
      "Loss: 1.148314, Train accuracy: 0.820312, val accuracy: 0.179688\n",
      "Loss: 0.870347, Train accuracy: 0.789062, val accuracy: 0.203125\n",
      "Loss: 0.728570, Train accuracy: 0.750000, val accuracy: 0.148438\n",
      "Loss: 0.853042, Train accuracy: 0.804688, val accuracy: 0.226562\n",
      "Loss: 0.791080, Train accuracy: 0.851562, val accuracy: 0.171875\n",
      "Loss: 0.289794, Train accuracy: 0.867188, val accuracy: 0.117188\n",
      "Loss: 0.550906, Train accuracy: 0.898438, val accuracy: 0.226562\n",
      "Loss: 0.438479, Train accuracy: 0.898438, val accuracy: 0.164062\n",
      "Loss: 0.572789, Train accuracy: 0.929688, val accuracy: 0.148438\n",
      "Loss: 0.493284, Train accuracy: 0.921875, val accuracy: 0.187500\n",
      "Loss: 0.340150, Train accuracy: 0.945312, val accuracy: 0.156250\n",
      "Loss: 0.486227, Train accuracy: 0.953125, val accuracy: 0.148438\n",
      "Loss: 0.350125, Train accuracy: 0.859375, val accuracy: 0.226562\n",
      "Loss: 0.223399, Train accuracy: 0.945312, val accuracy: 0.148438\n",
      "Loss: 0.277199, Train accuracy: 0.976562, val accuracy: 0.148438\n",
      "Loss: 0.222401, Train accuracy: 0.953125, val accuracy: 0.218750\n",
      "Loss: 0.185492, Train accuracy: 0.968750, val accuracy: 0.210938\n",
      "Loss: 0.258913, Train accuracy: 0.984375, val accuracy: 0.156250\n",
      "Loss: 0.150712, Train accuracy: 0.960938, val accuracy: 0.226562\n",
      "Loss: 0.162911, Train accuracy: 0.992188, val accuracy: 0.195312\n",
      "Loss: 0.182160, Train accuracy: 0.992188, val accuracy: 0.179688\n",
      "Loss: 0.165040, Train accuracy: 0.976562, val accuracy: 0.179688\n",
      "Loss: 0.149007, Train accuracy: 0.992188, val accuracy: 0.195312\n",
      "Loss: 0.110946, Train accuracy: 0.992188, val accuracy: 0.179688\n",
      "Loss: 0.112718, Train accuracy: 0.992188, val accuracy: 0.179688\n",
      "Loss: 0.117338, Train accuracy: 0.992188, val accuracy: 0.179688\n",
      "Loss: 0.145558, Train accuracy: 0.992188, val accuracy: 0.156250\n",
      "Loss: 0.110247, Train accuracy: 0.992188, val accuracy: 0.164062\n",
      "Loss: 0.117506, Train accuracy: 1.000000, val accuracy: 0.203125\n",
      "Loss: 0.109872, Train accuracy: 0.992188, val accuracy: 0.195312\n",
      "Loss: 0.120605, Train accuracy: 1.000000, val accuracy: 0.171875\n",
      "Loss: 0.135793, Train accuracy: 0.992188, val accuracy: 0.179688\n",
      "Loss: 0.109140, Train accuracy: 1.000000, val accuracy: 0.187500\n",
      "Loss: 0.099679, Train accuracy: 0.992188, val accuracy: 0.203125\n",
      "Loss: 0.069929, Train accuracy: 0.992188, val accuracy: 0.164062\n",
      "Loss: 0.076986, Train accuracy: 1.000000, val accuracy: 0.179688\n",
      "Loss: 0.103435, Train accuracy: 1.000000, val accuracy: 0.203125\n",
      "Loss: 0.118799, Train accuracy: 1.000000, val accuracy: 0.195312\n",
      "Loss: 0.103754, Train accuracy: 0.992188, val accuracy: 0.164062\n",
      "Loss: 0.077429, Train accuracy: 1.000000, val accuracy: 0.179688\n",
      "Loss: 0.068988, Train accuracy: 1.000000, val accuracy: 0.203125\n",
      "Loss: 0.092913, Train accuracy: 1.000000, val accuracy: 0.195312\n",
      "Loss: 0.067391, Train accuracy: 1.000000, val accuracy: 0.187500\n",
      "Loss: 0.070172, Train accuracy: 1.000000, val accuracy: 0.171875\n",
      "Loss: 0.095682, Train accuracy: 1.000000, val accuracy: 0.171875\n",
      "Loss: 0.066418, Train accuracy: 1.000000, val accuracy: 0.195312\n",
      "Loss: 0.080073, Train accuracy: 1.000000, val accuracy: 0.203125\n",
      "Loss: 0.062771, Train accuracy: 1.000000, val accuracy: 0.210938\n",
      "Loss: 0.096607, Train accuracy: 1.000000, val accuracy: 0.179688\n",
      "Loss: 0.063408, Train accuracy: 0.992188, val accuracy: 0.171875\n",
      "Loss: 0.057412, Train accuracy: 1.000000, val accuracy: 0.187500\n",
      "Loss: 0.074593, Train accuracy: 1.000000, val accuracy: 0.195312\n",
      "Loss: 0.080844, Train accuracy: 1.000000, val accuracy: 0.164062\n",
      "Loss: 0.065559, Train accuracy: 1.000000, val accuracy: 0.195312\n",
      "Loss: 0.090978, Train accuracy: 1.000000, val accuracy: 0.195312\n",
      "Loss: 0.061511, Train accuracy: 1.000000, val accuracy: 0.179688\n",
      "Loss: 0.067688, Train accuracy: 1.000000, val accuracy: 0.179688\n",
      "Loss: 0.065375, Train accuracy: 1.000000, val accuracy: 0.179688\n",
      "Loss: 0.063990, Train accuracy: 1.000000, val accuracy: 0.179688\n",
      "Loss: 0.068471, Train accuracy: 1.000000, val accuracy: 0.195312\n"
     ]
    }
   ],
   "source": [
    "data_size = 128\n",
    "model = ConvNet(input_shape=(32,32,3), n_output_classes=10, conv1_channels=48, conv2_channels=200)\n",
    "dataset = Dataset(train_X[:data_size], train_y[:data_size], val_X[:data_size], val_y[:data_size])\n",
    "# TODO: Change any hyperparamers or optimizators to reach 1.0 training accuracy in 50 epochs or less\n",
    "# Hint: If you have hard time finding the right parameters manually, try grid search or random search!\n",
    "trainer = Trainer(model, dataset, MomentumSGD(momentum = 0.95), learning_rate=1e-4, num_epochs=100, batch_size=64)\n",
    "\n",
    "loss_history, train_history, val_history = trainer.fit()"
   ],
   "metadata": {
    "collapsed": false
   }
  },
  {
   "cell_type": "code",
   "execution_count": null,
   "outputs": [],
   "source": [
    "def train_model(model, train_loader, val_loader, loss, optimizer, num_epochs, scheduler = StepLR(optimizer, step_size = 1, gamma = 1.0)):\n",
    "    loss_history = []\n",
    "    train_history = []\n",
    "    val_history = []\n",
    "    for epoch in range(num_epochs):\n",
    "        scheduler.step()\n",
    "        model.train() # Enter train mode\n",
    "\n",
    "        loss_accum = 0\n",
    "        correct_samples = 0\n",
    "        total_samples = 0\n",
    "        for i_step, (x, y) in enumerate(train_loader):\n",
    "\n",
    "            x_gpu = x.to(device)\n",
    "            y_gpu = y.to(device)\n",
    "            prediction = model(x_gpu)\n",
    "            loss_value = loss(prediction, y_gpu)\n",
    "            optimizer.zero_grad()\n",
    "            loss_value.backward()\n",
    "            optimizer.step()\n",
    "\n",
    "            indices = torch.argmax(prediction, 1)\n",
    "            correct_samples += torch.sum(indices == y_gpu)\n",
    "            total_samples += y.shape[0]\n",
    "\n",
    "            loss_accum += loss_value\n",
    "\n",
    "        ave_loss = loss_accum / (i_step + 1)\n",
    "        train_accuracy = float(correct_samples) / total_samples\n",
    "        val_accuracy = compute_accuracy(model, val_loader)\n",
    "\n",
    "        loss_history.append(float(ave_loss))\n",
    "        train_history.append(train_accuracy)\n",
    "        val_history.append(val_accuracy)\n",
    "\n",
    "        print(\"Average loss: %f, Train accuracy: %f, Val accuracy: %f\" % (ave_loss, train_accuracy, val_accuracy))\n",
    "\n",
    "    return loss_history, train_history, val_history\n",
    "\n",
    "def compute_accuracy(model, loader):\n",
    "    \"\"\"\n",
    "    Computes accuracy on the dataset wrapped in a loader\n",
    "\n",
    "    Returns: accuracy as a float value between 0 and 1\n",
    "    \"\"\"\n",
    "    model.eval() # Evaluation mode\n",
    "    # TODO: Copy implementation from previous assignment\n",
    "    # Don't forget to move the data to device before running it through the model!\n",
    "\n",
    "    with torch.no_grad():\n",
    "        correct_samples = 0;\n",
    "        total_samples = 0;\n",
    "        for i_step, (x, y) in enumerate(loader):\n",
    "            x_gpu = x.to(device)\n",
    "            y_gpu = y.to(device)\n",
    "            prediction = model(x_gpu);\n",
    "            indices = torch.argmax(prediction, 1);\n",
    "            correct_samples += torch.sum(indices == y_gpu);\n",
    "            total_samples += y.shape[0];\n",
    "\n",
    "        val_accuracy = float(correct_samples) / total_samples;\n",
    "    return val_accuracy;"
   ],
   "metadata": {
    "collapsed": false
   }
  }
 ],
 "metadata": {
  "kernelspec": {
   "display_name": "Python 3",
   "language": "python",
   "name": "python3"
  },
  "language_info": {
   "codemirror_mode": {
    "name": "ipython",
    "version": 2
   },
   "file_extension": ".py",
   "mimetype": "text/x-python",
   "name": "python",
   "nbconvert_exporter": "python",
   "pygments_lexer": "ipython2",
   "version": "2.7.6"
  }
 },
 "nbformat": 4,
 "nbformat_minor": 0
}
