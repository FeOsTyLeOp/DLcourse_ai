{
 "cells": [
  {
   "cell_type": "code",
   "execution_count": 1,
   "metadata": {
    "collapsed": true
   },
   "outputs": [],
   "source": [
    "import numpy as np\n",
    "import matplotlib.pyplot as plt\n",
    "\n",
    "%matplotlib inline\n",
    "\n",
    "%load_ext autoreload\n",
    "%autoreload 2"
   ]
  },
  {
   "cell_type": "code",
   "execution_count": 2,
   "outputs": [],
   "source": [
    "from dataset import load_svhn, random_split_train_val\n",
    "from gradient_check import check_gradient\n",
    "from metrics import multiclass_accuracy\n",
    "import linear_classifer"
   ],
   "metadata": {
    "collapsed": false
   }
  },
  {
   "cell_type": "code",
   "execution_count": 4,
   "outputs": [
    {
     "name": "stderr",
     "output_type": "stream",
     "text": [
      "C:\\Users\\mcinf\\AppData\\Local\\Temp\\ipykernel_19124\\754446373.py:2: DeprecationWarning: `np.float` is a deprecated alias for the builtin `float`. To silence this warning, use `float` by itself. Doing this will not modify any behavior and is safe. If you specifically wanted the numpy scalar type, use `np.float64` here.\n",
      "Deprecated in NumPy 1.20; for more details and guidance: https://numpy.org/devdocs/release/1.20.0-notes.html#deprecations\n",
      "  train_flat = train_X.reshape(train_X.shape[0], -1).astype(np.float) / 255.0\n",
      "C:\\Users\\mcinf\\AppData\\Local\\Temp\\ipykernel_19124\\754446373.py:3: DeprecationWarning: `np.float` is a deprecated alias for the builtin `float`. To silence this warning, use `float` by itself. Doing this will not modify any behavior and is safe. If you specifically wanted the numpy scalar type, use `np.float64` here.\n",
      "Deprecated in NumPy 1.20; for more details and guidance: https://numpy.org/devdocs/release/1.20.0-notes.html#deprecations\n",
      "  test_flat = test_X.reshape(test_X.shape[0], -1).astype(np.float) / 255.0\n"
     ]
    }
   ],
   "source": [
    "def prepare_for_linear_classifier(train_X, test_X):\n",
    "    train_flat = train_X.reshape(train_X.shape[0], -1).astype(np.float) / 255.0\n",
    "    test_flat = test_X.reshape(test_X.shape[0], -1).astype(np.float) / 255.0\n",
    "\n",
    "    # Subtract mean\n",
    "    mean_image = np.mean(train_flat, axis = 0)\n",
    "    train_flat -= mean_image\n",
    "    test_flat -= mean_image\n",
    "\n",
    "    # Add another channel with ones as a bias term\n",
    "    train_flat_with_ones = np.hstack([train_flat, np.ones((train_X.shape[0], 1))])\n",
    "    test_flat_with_ones = np.hstack([test_flat, np.ones((test_X.shape[0], 1))])\n",
    "    return train_flat_with_ones, test_flat_with_ones\n",
    "\n",
    "train_X, train_y, test_X, test_y = load_svhn(\"data\", max_train=10000, max_test=1000)\n",
    "train_X, test_X = prepare_for_linear_classifier(train_X, test_X)\n",
    "# Split train into train and val\n",
    "train_X, train_y, val_X, val_y = random_split_train_val(train_X, train_y, num_val = 1000)"
   ],
   "metadata": {
    "collapsed": false
   }
  },
  {
   "cell_type": "code",
   "execution_count": 5,
   "outputs": [
    {
     "name": "stdout",
     "output_type": "stream",
     "text": [
      "Gradient check passed!\n",
      "Gradient check passed!\n",
      "Gradient check passed!\n"
     ]
    },
    {
     "data": {
      "text/plain": "True"
     },
     "execution_count": 5,
     "metadata": {},
     "output_type": "execute_result"
    }
   ],
   "source": [
    "def square(x):\n",
    "    return float(x*x), 2*x\n",
    "\n",
    "check_gradient(square, np.array([3.0]))\n",
    "\n",
    "def array_sum(x):\n",
    "    assert x.shape == (2,), x.shape\n",
    "    return np.sum(x), np.ones_like(x)\n",
    "\n",
    "check_gradient(array_sum, np.array([3.0, 2.0]))\n",
    "\n",
    "def array_2d_sum(x):\n",
    "    assert x.shape == (2,2)\n",
    "    return np.sum(x), np.ones_like(x)\n",
    "\n",
    "check_gradient(array_2d_sum, np.array([[3.0, 2.0], [1.0, 0.0]]))"
   ],
   "metadata": {
    "collapsed": false
   }
  },
  {
   "cell_type": "code",
   "execution_count": 7,
   "outputs": [],
   "source": [
    "# TODO Implement softmax and cross-entropy for single sample\n",
    "probs = linear_classifer.softmax(np.array([-10, 0, 10]))\n",
    "\n",
    "# Make sure it works for big numbers too!\n",
    "probs = linear_classifer.softmax(np.array([1000, 0, 0]))\n",
    "assert np.isclose(probs[0], 1.0)"
   ],
   "metadata": {
    "collapsed": false
   }
  },
  {
   "cell_type": "code",
   "execution_count": 8,
   "outputs": [
    {
     "data": {
      "text/plain": "5.006760443547122"
     },
     "execution_count": 8,
     "metadata": {},
     "output_type": "execute_result"
    }
   ],
   "source": [
    "probs = linear_classifer.softmax(np.array([-5, 0, 5]))\n",
    "linear_classifer.cross_entropy_loss(probs, 1)"
   ],
   "metadata": {
    "collapsed": false
   }
  },
  {
   "cell_type": "code",
   "execution_count": 10,
   "outputs": [
    {
     "name": "stdout",
     "output_type": "stream",
     "text": [
      "Gradient check passed!\n"
     ]
    },
    {
     "name": "stderr",
     "output_type": "stream",
     "text": [
      "C:\\Users\\mcinf\\AppData\\Local\\Temp\\ipykernel_19124\\979710720.py:3: DeprecationWarning: `np.float` is a deprecated alias for the builtin `float`. To silence this warning, use `float` by itself. Doing this will not modify any behavior and is safe. If you specifically wanted the numpy scalar type, use `np.float64` here.\n",
      "Deprecated in NumPy 1.20; for more details and guidance: https://numpy.org/devdocs/release/1.20.0-notes.html#deprecations\n",
      "  check_gradient(lambda x: linear_classifer.softmax_with_cross_entropy(x, 1), np.array([1, 0, 0], np.float))\n"
     ]
    },
    {
     "data": {
      "text/plain": "True"
     },
     "execution_count": 10,
     "metadata": {},
     "output_type": "execute_result"
    }
   ],
   "source": [
    "# TODO Implement combined function or softmax and cross entropy and produces gradient\n",
    "loss, grad = linear_classifer.softmax_with_cross_entropy(np.array([1, 0, 0]), 1)\n",
    "check_gradient(lambda x: linear_classifer.softmax_with_cross_entropy(x, 1), np.array([1, 0, 0], np.float))"
   ],
   "metadata": {
    "collapsed": false
   }
  },
  {
   "cell_type": "code",
   "execution_count": 11,
   "outputs": [
    {
     "name": "stdout",
     "output_type": "stream",
     "text": [
      "Gradient check passed!\n",
      "Gradient check passed!\n"
     ]
    },
    {
     "name": "stderr",
     "output_type": "stream",
     "text": [
      "C:\\Users\\mcinf\\AppData\\Local\\Temp\\ipykernel_19124\\300140031.py:6: DeprecationWarning: `np.float` is a deprecated alias for the builtin `float`. To silence this warning, use `float` by itself. Doing this will not modify any behavior and is safe. If you specifically wanted the numpy scalar type, use `np.float64` here.\n",
      "Deprecated in NumPy 1.20; for more details and guidance: https://numpy.org/devdocs/release/1.20.0-notes.html#deprecations\n",
      "  predictions = np.random.randint(-1, 3, size=(batch_size, num_classes)).astype(np.float)\n",
      "C:\\Users\\mcinf\\AppData\\Local\\Temp\\ipykernel_19124\\300140031.py:7: DeprecationWarning: `np.int` is a deprecated alias for the builtin `int`. To silence this warning, use `int` by itself. Doing this will not modify any behavior and is safe. When replacing `np.int`, you may wish to use e.g. `np.int64` or `np.int32` to specify the precision. If you wish to review your current use, check the release note link for additional information.\n",
      "Deprecated in NumPy 1.20; for more details and guidance: https://numpy.org/devdocs/release/1.20.0-notes.html#deprecations\n",
      "  target_index = np.random.randint(0, num_classes, size=(batch_size, 1)).astype(np.int)\n",
      "C:\\Users\\mcinf\\AppData\\Local\\Temp\\ipykernel_19124\\300140031.py:13: DeprecationWarning: `np.int` is a deprecated alias for the builtin `int`. To silence this warning, use `int` by itself. Doing this will not modify any behavior and is safe. When replacing `np.int`, you may wish to use e.g. `np.int64` or `np.int32` to specify the precision. If you wish to review your current use, check the release note link for additional information.\n",
      "Deprecated in NumPy 1.20; for more details and guidance: https://numpy.org/devdocs/release/1.20.0-notes.html#deprecations\n",
      "  target_index = np.ones(batch_size, np.int)\n"
     ]
    },
    {
     "data": {
      "text/plain": "True"
     },
     "execution_count": 11,
     "metadata": {},
     "output_type": "execute_result"
    }
   ],
   "source": [
    "# TODO Extend combined function so it can receive a 2d array with batch of samples\n",
    "np.random.seed(42)\n",
    "# Test batch_size = 1\n",
    "num_classes = 4\n",
    "batch_size = 1\n",
    "predictions = np.random.randint(-1, 3, size=(batch_size, num_classes)).astype(np.float)\n",
    "target_index = np.random.randint(0, num_classes, size=(batch_size, 1)).astype(np.int)\n",
    "check_gradient(lambda x: linear_classifer.softmax_with_cross_entropy(x, target_index), predictions)\n",
    "\n",
    "# Test batch_size = 3\n",
    "batch_size = 3\n",
    "predictions = np.zeros((batch_size, 3))\n",
    "target_index = np.ones(batch_size, np.int)\n",
    "check_gradient(lambda x: linear_classifer.softmax_with_cross_entropy(x, target_index), predictions)"
   ],
   "metadata": {
    "collapsed": false
   }
  },
  {
   "cell_type": "code",
   "execution_count": 13,
   "outputs": [
    {
     "name": "stdout",
     "output_type": "stream",
     "text": [
      "Gradient check passed!\n"
     ]
    },
    {
     "name": "stderr",
     "output_type": "stream",
     "text": [
      "C:\\Users\\mcinf\\AppData\\Local\\Temp\\ipykernel_19124\\1919402437.py:6: DeprecationWarning: `np.float` is a deprecated alias for the builtin `float`. To silence this warning, use `float` by itself. Doing this will not modify any behavior and is safe. If you specifically wanted the numpy scalar type, use `np.float64` here.\n",
      "Deprecated in NumPy 1.20; for more details and guidance: https://numpy.org/devdocs/release/1.20.0-notes.html#deprecations\n",
      "  W = np.random.randint(-1, 3, size=(num_features, num_classes)).astype(np.float)\n",
      "C:\\Users\\mcinf\\AppData\\Local\\Temp\\ipykernel_19124\\1919402437.py:7: DeprecationWarning: `np.float` is a deprecated alias for the builtin `float`. To silence this warning, use `float` by itself. Doing this will not modify any behavior and is safe. If you specifically wanted the numpy scalar type, use `np.float64` here.\n",
      "Deprecated in NumPy 1.20; for more details and guidance: https://numpy.org/devdocs/release/1.20.0-notes.html#deprecations\n",
      "  X = np.random.randint(-1, 3, size=(batch_size, num_features)).astype(np.float)\n",
      "C:\\Users\\mcinf\\AppData\\Local\\Temp\\ipykernel_19124\\1919402437.py:8: DeprecationWarning: `np.int` is a deprecated alias for the builtin `int`. To silence this warning, use `int` by itself. Doing this will not modify any behavior and is safe. When replacing `np.int`, you may wish to use e.g. `np.int64` or `np.int32` to specify the precision. If you wish to review your current use, check the release note link for additional information.\n",
      "Deprecated in NumPy 1.20; for more details and guidance: https://numpy.org/devdocs/release/1.20.0-notes.html#deprecations\n",
      "  target_index = np.ones(batch_size, dtype=np.int)\n"
     ]
    },
    {
     "data": {
      "text/plain": "True"
     },
     "execution_count": 13,
     "metadata": {},
     "output_type": "execute_result"
    }
   ],
   "source": [
    "# TODO Implement linear_softmax function that uses softmax with cross-entropy for linear classifier\n",
    "batch_size = 2\n",
    "num_classes = 2\n",
    "num_features = 3\n",
    "np.random.seed(42)\n",
    "W = np.random.randint(-1, 3, size=(num_features, num_classes)).astype(np.float)\n",
    "X = np.random.randint(-1, 3, size=(batch_size, num_features)).astype(np.float)\n",
    "target_index = np.ones(batch_size, dtype=np.int)\n",
    "\n",
    "loss, dW = linear_classifer.linear_softmax(X, W, target_index)\n",
    "check_gradient(lambda w: linear_classifer.linear_softmax(X, w, target_index), W)"
   ],
   "metadata": {
    "collapsed": false
   }
  },
  {
   "cell_type": "code",
   "execution_count": 14,
   "outputs": [
    {
     "name": "stdout",
     "output_type": "stream",
     "text": [
      "Gradient check passed!\n"
     ]
    },
    {
     "data": {
      "text/plain": "True"
     },
     "execution_count": 14,
     "metadata": {},
     "output_type": "execute_result"
    }
   ],
   "source": [
    "# TODO Implement l2_regularization function that implements loss for L2 regularization\n",
    "linear_classifer.l2_regularization(W, 0.01)\n",
    "check_gradient(lambda w: linear_classifer.l2_regularization(w, 0.01), W)"
   ],
   "metadata": {
    "collapsed": false
   }
  },
  {
   "cell_type": "code",
   "execution_count": 15,
   "outputs": [
    {
     "name": "stdout",
     "output_type": "stream",
     "text": [
      "Epoch 0, loss: 2.397363\n",
      "Epoch 1, loss: 2.330354\n",
      "Epoch 2, loss: 2.311002\n",
      "Epoch 3, loss: 2.303897\n",
      "Epoch 4, loss: 2.303257\n",
      "Epoch 5, loss: 2.302898\n",
      "Epoch 6, loss: 2.302564\n",
      "Epoch 7, loss: 2.301815\n",
      "Epoch 8, loss: 2.301252\n",
      "Epoch 9, loss: 2.301256\n"
     ]
    }
   ],
   "source": [
    "classifier = linear_classifer.LinearSoftmaxClassifier()\n",
    "loss_history = classifier.fit(train_X, train_y, epochs=10, learning_rate=1e-3, batch_size=300, reg=1e1)"
   ],
   "metadata": {
    "collapsed": false
   }
  },
  {
   "cell_type": "code",
   "execution_count": 16,
   "outputs": [
    {
     "data": {
      "text/plain": "[<matplotlib.lines.Line2D at 0x18ad26b7790>]"
     },
     "execution_count": 16,
     "metadata": {},
     "output_type": "execute_result"
    },
    {
     "data": {
      "text/plain": "<Figure size 640x480 with 1 Axes>",
      "image/png": "[encoded data removed]"
     },
     "metadata": {},
     "output_type": "display_data"
    }
   ],
   "source": [
    "# let's look at the loss history!\n",
    "plt.plot(loss_history)"
   ],
   "metadata": {
    "collapsed": false
   }
  },
  {
   "cell_type": "code",
   "execution_count": 17,
   "outputs": [
    {
     "name": "stdout",
     "output_type": "stream",
     "text": [
      "127\n",
      "Accuracy:  0.127\n",
      "Epoch 0, loss: 2.301800\n",
      "Epoch 1, loss: 2.302558\n",
      "Epoch 2, loss: 2.302208\n",
      "Epoch 3, loss: 2.303309\n",
      "Epoch 4, loss: 2.302126\n",
      "Epoch 5, loss: 2.301524\n",
      "Epoch 6, loss: 2.301150\n",
      "Epoch 7, loss: 2.301359\n",
      "Epoch 8, loss: 2.302305\n",
      "Epoch 9, loss: 2.302205\n",
      "Epoch 10, loss: 2.301595\n",
      "Epoch 11, loss: 2.302039\n",
      "Epoch 12, loss: 2.301247\n",
      "Epoch 13, loss: 2.301836\n",
      "Epoch 14, loss: 2.302396\n",
      "Epoch 15, loss: 2.302299\n",
      "Epoch 16, loss: 2.301161\n",
      "Epoch 17, loss: 2.302058\n",
      "Epoch 18, loss: 2.302180\n",
      "Epoch 19, loss: 2.302339\n",
      "Epoch 20, loss: 2.302694\n",
      "Epoch 21, loss: 2.301872\n",
      "Epoch 22, loss: 2.302261\n",
      "Epoch 23, loss: 2.302209\n",
      "Epoch 24, loss: 2.302215\n",
      "Epoch 25, loss: 2.301591\n",
      "Epoch 26, loss: 2.301535\n",
      "Epoch 27, loss: 2.302557\n",
      "Epoch 28, loss: 2.301689\n",
      "Epoch 29, loss: 2.301815\n",
      "Epoch 30, loss: 2.301483\n",
      "Epoch 31, loss: 2.301553\n",
      "Epoch 32, loss: 2.301640\n",
      "Epoch 33, loss: 2.301991\n",
      "Epoch 34, loss: 2.302104\n",
      "Epoch 35, loss: 2.301741\n",
      "Epoch 36, loss: 2.302652\n",
      "Epoch 37, loss: 2.303017\n",
      "Epoch 38, loss: 2.301521\n",
      "Epoch 39, loss: 2.301504\n",
      "Epoch 40, loss: 2.301565\n",
      "Epoch 41, loss: 2.302361\n",
      "Epoch 42, loss: 2.302223\n",
      "Epoch 43, loss: 2.302385\n",
      "Epoch 44, loss: 2.302532\n",
      "Epoch 45, loss: 2.301950\n",
      "Epoch 46, loss: 2.301686\n",
      "Epoch 47, loss: 2.301881\n",
      "Epoch 48, loss: 2.302291\n",
      "Epoch 49, loss: 2.302069\n",
      "Epoch 50, loss: 2.301971\n",
      "Epoch 51, loss: 2.302533\n",
      "Epoch 52, loss: 2.302043\n",
      "Epoch 53, loss: 2.302003\n",
      "Epoch 54, loss: 2.301729\n",
      "Epoch 55, loss: 2.301272\n",
      "Epoch 56, loss: 2.302220\n",
      "Epoch 57, loss: 2.301765\n",
      "Epoch 58, loss: 2.301959\n",
      "Epoch 59, loss: 2.302229\n",
      "Epoch 60, loss: 2.301372\n",
      "Epoch 61, loss: 2.302540\n",
      "Epoch 62, loss: 2.301929\n",
      "Epoch 63, loss: 2.301502\n",
      "Epoch 64, loss: 2.302201\n",
      "Epoch 65, loss: 2.302674\n",
      "Epoch 66, loss: 2.302191\n",
      "Epoch 67, loss: 2.302989\n",
      "Epoch 68, loss: 2.301388\n",
      "Epoch 69, loss: 2.301621\n",
      "Epoch 70, loss: 2.301533\n",
      "Epoch 71, loss: 2.302804\n",
      "Epoch 72, loss: 2.301514\n",
      "Epoch 73, loss: 2.300962\n",
      "Epoch 74, loss: 2.302366\n",
      "Epoch 75, loss: 2.301895\n",
      "Epoch 76, loss: 2.301768\n",
      "Epoch 77, loss: 2.302649\n",
      "Epoch 78, loss: 2.302394\n",
      "Epoch 79, loss: 2.301415\n",
      "Epoch 80, loss: 2.302148\n",
      "Epoch 81, loss: 2.302263\n",
      "Epoch 82, loss: 2.301172\n",
      "Epoch 83, loss: 2.302803\n",
      "Epoch 84, loss: 2.301892\n",
      "Epoch 85, loss: 2.302788\n",
      "Epoch 86, loss: 2.302016\n",
      "Epoch 87, loss: 2.302450\n",
      "Epoch 88, loss: 2.302002\n",
      "Epoch 89, loss: 2.302363\n",
      "Epoch 90, loss: 2.301257\n",
      "Epoch 91, loss: 2.302553\n",
      "Epoch 92, loss: 2.301951\n",
      "Epoch 93, loss: 2.300910\n",
      "Epoch 94, loss: 2.302318\n",
      "Epoch 95, loss: 2.301563\n",
      "Epoch 96, loss: 2.302494\n",
      "Epoch 97, loss: 2.301579\n",
      "Epoch 98, loss: 2.302468\n",
      "Epoch 99, loss: 2.302352\n",
      "121\n",
      "Accuracy after training for 100 epochs:  0.121\n"
     ]
    }
   ],
   "source": [
    "# Let's check how it performs on validation set\n",
    "pred = classifier.predict(val_X)\n",
    "accuracy = multiclass_accuracy(pred, val_y)\n",
    "print(\"Accuracy: \", accuracy)\n",
    "\n",
    "# Now, let's train more and see if it performs better\n",
    "classifier.fit(train_X, train_y, epochs=100, learning_rate=1e-3, batch_size=300, reg=1e1)\n",
    "pred = classifier.predict(val_X)\n",
    "accuracy = multiclass_accuracy(pred, val_y)\n",
    "print(\"Accuracy after training for 100 epochs: \", accuracy)"
   ],
   "metadata": {
    "collapsed": false
   }
  },
  {
   "cell_type": "code",
   "execution_count": 18,
   "outputs": [
    {
     "name": "stdout",
     "output_type": "stream",
     "text": [
      "Epoch 0, loss: 2.283301\n",
      "Epoch 1, loss: 2.237674\n",
      "Epoch 2, loss: 2.218629\n",
      "Epoch 3, loss: 2.174659\n",
      "Epoch 4, loss: 2.182868\n",
      "Epoch 5, loss: 2.205173\n",
      "Epoch 6, loss: 2.125798\n",
      "Epoch 7, loss: 2.157600\n",
      "Epoch 8, loss: 2.116210\n",
      "Epoch 9, loss: 2.168020\n",
      "425\n",
      "Epoch 0, loss: 2.165254\n",
      "Epoch 1, loss: 2.223440\n",
      "Epoch 2, loss: 2.168189\n",
      "Epoch 3, loss: 2.165455\n",
      "Epoch 4, loss: 2.163593\n",
      "Epoch 5, loss: 2.070280\n",
      "Epoch 6, loss: 2.143984\n",
      "Epoch 7, loss: 2.120156\n",
      "Epoch 8, loss: 2.126146\n",
      "Epoch 9, loss: 2.108222\n",
      "449\n",
      "Epoch 0, loss: 2.153003\n",
      "Epoch 1, loss: 2.123437\n",
      "Epoch 2, loss: 2.118652\n",
      "Epoch 3, loss: 2.109143\n",
      "Epoch 4, loss: 2.114096\n",
      "Epoch 5, loss: 2.114558\n",
      "Epoch 6, loss: 2.081255\n",
      "Epoch 7, loss: 2.131835\n",
      "Epoch 8, loss: 2.120399\n",
      "Epoch 9, loss: 2.055304\n",
      "490\n",
      "Epoch 0, loss: 2.106501\n",
      "Epoch 1, loss: 2.095716\n",
      "Epoch 2, loss: 2.142633\n",
      "Epoch 3, loss: 2.090432\n",
      "Epoch 4, loss: 2.041924\n",
      "Epoch 5, loss: 2.109532\n",
      "Epoch 6, loss: 2.126855\n",
      "Epoch 7, loss: 2.098129\n",
      "Epoch 8, loss: 2.061020\n",
      "Epoch 9, loss: 2.183117\n",
      "485\n",
      "Epoch 0, loss: 2.120867\n",
      "Epoch 1, loss: 2.077816\n",
      "Epoch 2, loss: 2.159775\n",
      "Epoch 3, loss: 2.040605\n",
      "Epoch 4, loss: 2.092675\n",
      "Epoch 5, loss: 2.068102\n",
      "Epoch 6, loss: 2.071914\n",
      "Epoch 7, loss: 2.039572\n",
      "Epoch 8, loss: 2.125688\n",
      "Epoch 9, loss: 2.088801\n",
      "474\n",
      "Linear classifier with l = 1.000000e-01 and r = 1.000000e-04\n",
      "Accuracy: 0.26\n",
      "Epoch 0, loss: 2.268891\n",
      "Epoch 1, loss: 2.226491\n",
      "Epoch 2, loss: 2.223558\n",
      "Epoch 3, loss: 2.219854\n",
      "Epoch 4, loss: 2.186610\n",
      "Epoch 5, loss: 2.193292\n",
      "Epoch 6, loss: 2.142044\n",
      "Epoch 7, loss: 2.127206\n",
      "Epoch 8, loss: 2.155070\n",
      "Epoch 9, loss: 2.140613\n",
      "395\n",
      "Epoch 0, loss: 2.112074\n",
      "Epoch 1, loss: 2.148192\n",
      "Epoch 2, loss: 2.158573\n",
      "Epoch 3, loss: 2.122455\n",
      "Epoch 4, loss: 2.123997\n",
      "Epoch 5, loss: 2.124256\n",
      "Epoch 6, loss: 2.056661\n",
      "Epoch 7, loss: 2.110823\n",
      "Epoch 8, loss: 2.154789\n",
      "Epoch 9, loss: 2.232233\n",
      "417\n",
      "Epoch 0, loss: 2.176932\n",
      "Epoch 1, loss: 2.132491\n",
      "Epoch 2, loss: 2.142340\n",
      "Epoch 3, loss: 2.134956\n",
      "Epoch 4, loss: 2.106450\n",
      "Epoch 5, loss: 2.088427\n",
      "Epoch 6, loss: 2.158740\n",
      "Epoch 7, loss: 2.085661\n",
      "Epoch 8, loss: 2.051602\n",
      "Epoch 9, loss: 2.087251\n",
      "488\n",
      "Epoch 0, loss: 2.089434\n",
      "Epoch 1, loss: 2.183734\n",
      "Epoch 2, loss: 2.072665\n",
      "Epoch 3, loss: 2.163433\n",
      "Epoch 4, loss: 2.108861\n",
      "Epoch 5, loss: 2.120713\n",
      "Epoch 6, loss: 2.139802\n",
      "Epoch 7, loss: 2.128352\n",
      "Epoch 8, loss: 2.114310\n",
      "Epoch 9, loss: 2.133108\n",
      "485\n",
      "Epoch 0, loss: 2.082440\n",
      "Epoch 1, loss: 2.136528\n",
      "Epoch 2, loss: 2.064530\n",
      "Epoch 3, loss: 2.079715\n",
      "Epoch 4, loss: 2.048867\n",
      "Epoch 5, loss: 2.119671\n",
      "Epoch 6, loss: 2.106832\n",
      "Epoch 7, loss: 2.122857\n",
      "Epoch 8, loss: 2.167909\n",
      "Epoch 9, loss: 2.112636\n",
      "468\n",
      "Linear classifier with l = 1.000000e-01 and r = 1.000000e-05\n",
      "Accuracy: 0.25\n",
      "Epoch 0, loss: 2.296338\n",
      "Epoch 1, loss: 2.292394\n",
      "Epoch 2, loss: 2.283120\n",
      "Epoch 3, loss: 2.272819\n",
      "Epoch 4, loss: 2.277282\n",
      "Epoch 5, loss: 2.274309\n",
      "Epoch 6, loss: 2.256156\n",
      "Epoch 7, loss: 2.252585\n",
      "Epoch 8, loss: 2.253079\n",
      "Epoch 9, loss: 2.239022\n",
      "349\n",
      "Epoch 0, loss: 2.242918\n",
      "Epoch 1, loss: 2.250413\n",
      "Epoch 2, loss: 2.247569\n",
      "Epoch 3, loss: 2.237777\n",
      "Epoch 4, loss: 2.206485\n",
      "Epoch 5, loss: 2.233632\n",
      "Epoch 6, loss: 2.200767\n",
      "Epoch 7, loss: 2.217042\n",
      "Epoch 8, loss: 2.197131\n",
      "Epoch 9, loss: 2.204682\n",
      "385\n",
      "Epoch 0, loss: 2.197073\n",
      "Epoch 1, loss: 2.179370\n",
      "Epoch 2, loss: 2.201697\n",
      "Epoch 3, loss: 2.206961\n",
      "Epoch 4, loss: 2.220110\n",
      "Epoch 5, loss: 2.202971\n",
      "Epoch 6, loss: 2.203290\n",
      "Epoch 7, loss: 2.241675\n",
      "Epoch 8, loss: 2.204677\n",
      "Epoch 9, loss: 2.154343\n",
      "449\n",
      "Epoch 0, loss: 2.181830\n",
      "Epoch 1, loss: 2.146571\n",
      "Epoch 2, loss: 2.198394\n",
      "Epoch 3, loss: 2.185385\n",
      "Epoch 4, loss: 2.151443\n",
      "Epoch 5, loss: 2.210143\n",
      "Epoch 6, loss: 2.195171\n",
      "Epoch 7, loss: 2.183873\n",
      "Epoch 8, loss: 2.190450\n",
      "Epoch 9, loss: 2.153226\n",
      "429\n",
      "Epoch 0, loss: 2.159828\n",
      "Epoch 1, loss: 2.179908\n",
      "Epoch 2, loss: 2.163325\n",
      "Epoch 3, loss: 2.170326\n",
      "Epoch 4, loss: 2.184971\n",
      "Epoch 5, loss: 2.183053\n",
      "Epoch 6, loss: 2.198865\n",
      "Epoch 7, loss: 2.196950\n",
      "Epoch 8, loss: 2.167963\n",
      "Epoch 9, loss: 2.209829\n",
      "411\n",
      "Linear classifier with l = 1.000000e-02 and r = 1.000000e-04\n",
      "Accuracy: 0.22\n",
      "Epoch 0, loss: 2.300446\n",
      "Epoch 1, loss: 2.286729\n",
      "Epoch 2, loss: 2.287880\n",
      "Epoch 3, loss: 2.268093\n",
      "Epoch 4, loss: 2.278513\n",
      "Epoch 5, loss: 2.258032\n",
      "Epoch 6, loss: 2.249330\n",
      "Epoch 7, loss: 2.262828\n",
      "Epoch 8, loss: 2.250885\n",
      "Epoch 9, loss: 2.245673\n",
      "334\n",
      "Epoch 0, loss: 2.243871\n",
      "Epoch 1, loss: 2.250227\n",
      "Epoch 2, loss: 2.257353\n",
      "Epoch 3, loss: 2.209028\n",
      "Epoch 4, loss: 2.215732\n",
      "Epoch 5, loss: 2.215000\n",
      "Epoch 6, loss: 2.207022\n",
      "Epoch 7, loss: 2.226611\n",
      "Epoch 8, loss: 2.205435\n",
      "Epoch 9, loss: 2.229269\n",
      "390\n",
      "Epoch 0, loss: 2.210988\n",
      "Epoch 1, loss: 2.229440\n",
      "Epoch 2, loss: 2.204743\n",
      "Epoch 3, loss: 2.216860\n",
      "Epoch 4, loss: 2.219766\n",
      "Epoch 5, loss: 2.221555\n",
      "Epoch 6, loss: 2.174166\n",
      "Epoch 7, loss: 2.215800\n",
      "Epoch 8, loss: 2.156984\n",
      "Epoch 9, loss: 2.201833\n",
      "444\n",
      "Epoch 0, loss: 2.192184\n",
      "Epoch 1, loss: 2.203247\n",
      "Epoch 2, loss: 2.191922\n",
      "Epoch 3, loss: 2.172915\n",
      "Epoch 4, loss: 2.173206\n",
      "Epoch 5, loss: 2.190169\n",
      "Epoch 6, loss: 2.193358\n",
      "Epoch 7, loss: 2.173061\n",
      "Epoch 8, loss: 2.183115\n",
      "Epoch 9, loss: 2.139392\n",
      "434\n",
      "Epoch 0, loss: 2.174707\n",
      "Epoch 1, loss: 2.174463\n",
      "Epoch 2, loss: 2.206091\n",
      "Epoch 3, loss: 2.159055\n",
      "Epoch 4, loss: 2.173167\n",
      "Epoch 5, loss: 2.211633\n",
      "Epoch 6, loss: 2.149038\n",
      "Epoch 7, loss: 2.174428\n",
      "Epoch 8, loss: 2.171251\n",
      "Epoch 9, loss: 2.155407\n",
      "406\n",
      "Linear classifier with l = 1.000000e-02 and r = 1.000000e-05\n",
      "Accuracy: 0.22\n",
      "Epoch 0, loss: 2.302453\n",
      "Epoch 1, loss: 2.300103\n",
      "Epoch 2, loss: 2.299960\n",
      "Epoch 3, loss: 2.301491\n",
      "Epoch 4, loss: 2.299463\n",
      "Epoch 5, loss: 2.298042\n",
      "Epoch 6, loss: 2.294969\n",
      "Epoch 7, loss: 2.296028\n",
      "Epoch 8, loss: 2.292388\n",
      "Epoch 9, loss: 2.297074\n",
      "253\n",
      "Epoch 0, loss: 2.293402\n",
      "Epoch 1, loss: 2.294862\n",
      "Epoch 2, loss: 2.290480\n",
      "Epoch 3, loss: 2.292851\n",
      "Epoch 4, loss: 2.286883\n",
      "Epoch 5, loss: 2.291848\n",
      "Epoch 6, loss: 2.295411\n",
      "Epoch 7, loss: 2.289443\n",
      "Epoch 8, loss: 2.284183\n",
      "Epoch 9, loss: 2.284345\n",
      "301\n",
      "Epoch 0, loss: 2.291227\n",
      "Epoch 1, loss: 2.285177\n",
      "Epoch 2, loss: 2.287568\n",
      "Epoch 3, loss: 2.286061\n",
      "Epoch 4, loss: 2.279198\n",
      "Epoch 5, loss: 2.289465\n",
      "Epoch 6, loss: 2.292042\n",
      "Epoch 7, loss: 2.277723\n",
      "Epoch 8, loss: 2.273004\n",
      "Epoch 9, loss: 2.287836\n",
      "382\n",
      "Epoch 0, loss: 2.284193\n",
      "Epoch 1, loss: 2.281179\n",
      "Epoch 2, loss: 2.276180\n",
      "Epoch 3, loss: 2.281648\n",
      "Epoch 4, loss: 2.273985\n",
      "Epoch 5, loss: 2.281001\n",
      "Epoch 6, loss: 2.286058\n",
      "Epoch 7, loss: 2.276957\n",
      "Epoch 8, loss: 2.276428\n",
      "Epoch 9, loss: 2.279310\n",
      "402\n",
      "Epoch 0, loss: 2.279253\n",
      "Epoch 1, loss: 2.280927\n",
      "Epoch 2, loss: 2.276110\n",
      "Epoch 3, loss: 2.280283\n",
      "Epoch 4, loss: 2.280153\n",
      "Epoch 5, loss: 2.275304\n",
      "Epoch 6, loss: 2.273921\n",
      "Epoch 7, loss: 2.273512\n",
      "Epoch 8, loss: 2.283989\n",
      "Epoch 9, loss: 2.274351\n",
      "417\n",
      "Linear classifier with l = 1.000000e-03 and r = 1.000000e-04\n",
      "Accuracy: 0.20\n",
      "Epoch 0, loss: 2.302070\n",
      "Epoch 1, loss: 2.302097\n",
      "Epoch 2, loss: 2.300489\n",
      "Epoch 3, loss: 2.300245\n",
      "Epoch 4, loss: 2.297231\n",
      "Epoch 5, loss: 2.297874\n",
      "Epoch 6, loss: 2.296012\n",
      "Epoch 7, loss: 2.294948\n",
      "Epoch 8, loss: 2.294004\n",
      "Epoch 9, loss: 2.294900\n",
      "254\n",
      "Epoch 0, loss: 2.293411\n",
      "Epoch 1, loss: 2.292357\n",
      "Epoch 2, loss: 2.294771\n",
      "Epoch 3, loss: 2.292557\n",
      "Epoch 4, loss: 2.294838\n",
      "Epoch 5, loss: 2.290694\n",
      "Epoch 6, loss: 2.288732\n",
      "Epoch 7, loss: 2.283669\n",
      "Epoch 8, loss: 2.291367\n",
      "Epoch 9, loss: 2.291116\n",
      "297\n",
      "Epoch 0, loss: 2.286009\n",
      "Epoch 1, loss: 2.291838\n",
      "Epoch 2, loss: 2.287452\n",
      "Epoch 3, loss: 2.287686\n",
      "Epoch 4, loss: 2.281907\n",
      "Epoch 5, loss: 2.283982\n",
      "Epoch 6, loss: 2.290031\n",
      "Epoch 7, loss: 2.287461\n",
      "Epoch 8, loss: 2.284402\n",
      "Epoch 9, loss: 2.277147\n",
      "376\n",
      "Epoch 0, loss: 2.281237\n",
      "Epoch 1, loss: 2.281991\n",
      "Epoch 2, loss: 2.281334\n",
      "Epoch 3, loss: 2.275222\n",
      "Epoch 4, loss: 2.282322\n",
      "Epoch 5, loss: 2.280616\n",
      "Epoch 6, loss: 2.275595\n",
      "Epoch 7, loss: 2.276845\n",
      "Epoch 8, loss: 2.276869\n",
      "Epoch 9, loss: 2.278167\n",
      "400\n",
      "Epoch 0, loss: 2.274619\n",
      "Epoch 1, loss: 2.278330\n",
      "Epoch 2, loss: 2.278649\n",
      "Epoch 3, loss: 2.271017\n",
      "Epoch 4, loss: 2.275027\n",
      "Epoch 5, loss: 2.283986\n",
      "Epoch 6, loss: 2.269514\n",
      "Epoch 7, loss: 2.266518\n",
      "Epoch 8, loss: 2.258166\n",
      "Epoch 9, loss: 2.280680\n",
      "414\n",
      "Linear classifier with l = 1.000000e-03 and r = 1.000000e-05\n",
      "Accuracy: 0.19\n",
      "l, r = 0.001, 0.0001, accuracy = 0.195000\n",
      "l, r = 0.001, 1e-05, accuracy = 0.193444\n",
      "l, r = 0.01, 0.0001, accuracy = 0.224778\n",
      "l, r = 0.01, 1e-05, accuracy = 0.223111\n",
      "l, r = 0.1, 0.0001, accuracy = 0.258111\n",
      "l, r = 0.1, 1e-05, accuracy = 0.250333\n"
     ]
    }
   ],
   "source": [
    "from sklearn.model_selection import KFold\n",
    "\n",
    "num_epochs = 10\n",
    "batch_size = 300\n",
    "\n",
    "#learning_rates = [1e-3, 1e-4, 1e-5]\n",
    "#reg_strengths = [1e-4, 1e-5, 1e-6]\n",
    "learning_rates = [1e-1, 1e-2, 1e-3]\n",
    "reg_strengths = [1e-4, 1e-5]\n",
    "\n",
    "best_classifier = None\n",
    "best_val_accuracy = None\n",
    "\n",
    "# TODO use validation set to find the best hyperparameters\n",
    "# hint: for best results, you might need to try more values for learning rate and regularization strength\n",
    "# than provided initially\n",
    "\n",
    "# Find the best k using cross-validation based on accuracy\n",
    "num_folds = 5\n",
    "train_folds_X = []\n",
    "test_folds_X = []\n",
    "l_r_to_accuracy = {}\n",
    "\n",
    "# TODO: split the training data in 5 folds and store them in train_folds_X/train_folds_y\n",
    "\n",
    "kfold = KFold(num_folds)\n",
    "\n",
    "for train, test in kfold.split(train_X):\n",
    "    train_folds_X.append(train)\n",
    "    test_folds_X.append(test)\n",
    "\n",
    "for l in learning_rates:\n",
    "    for r in reg_strengths:\n",
    "        # TODO: perform cross-validation\n",
    "        # Go through every fold and use it for testing and all other folds for validation\n",
    "        # Perform training and produce accuracy metric on the validation dataset\n",
    "        # Average accuracy from all the folds and write it into k_to_accuracy\n",
    "        accuracy_all = []\n",
    "        classifier = linear_classifer.LinearSoftmaxClassifier()\n",
    "        for i, train in enumerate(train_folds_X):\n",
    "            loss_history = classifier.fit(train_X[train], train_y[train], epochs=num_epochs, learning_rate=l, batch_size=batch_size, reg=r)\n",
    "            pred = classifier.predict(train_X[test_folds_X[i]])\n",
    "            accuracy = multiclass_accuracy(pred, train_y[test_folds_X[i]])\n",
    "            accuracy_all.append(accuracy)\n",
    "\n",
    "        l_r_to_accuracy[str(l) + ', ' + str(r)] = np.average(accuracy_all)\n",
    "        print(\"Linear classifier with l = %e and r = %e\" % (l, r))\n",
    "        print(\"Accuracy: %4.2f\" % (l_r_to_accuracy[str(l) + ', ' + str(r)]))\n",
    "\n",
    "for lr in sorted(l_r_to_accuracy):\n",
    "    print('l, r = %s, accuracy = %f' % (lr, l_r_to_accuracy[lr]))"
   ],
   "metadata": {
    "collapsed": false
   }
  },
  {
   "cell_type": "code",
   "execution_count": null,
   "outputs": [],
   "source": [],
   "metadata": {
    "collapsed": false
   }
  }
 ],
 "metadata": {
  "kernelspec": {
   "display_name": "Python 3",
   "language": "python",
   "name": "python3"
  },
  "language_info": {
   "codemirror_mode": {
    "name": "ipython",
    "version": 2
   },
   "file_extension": ".py",
   "mimetype": "text/x-python",
   "name": "python",
   "nbconvert_exporter": "python",
   "pygments_lexer": "ipython2",
   "version": "2.7.6"
  }
 },
 "nbformat": 4,
 "nbformat_minor": 0
}
